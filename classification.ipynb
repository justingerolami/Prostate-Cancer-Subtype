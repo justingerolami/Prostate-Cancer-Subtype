{
 "cells": [
  {
   "cell_type": "code",
   "execution_count": null,
   "metadata": {},
   "outputs": [],
   "source": [
    "import pandas as pd\n",
    "import numpy as np\n",
    "import statistics\n",
    "from sklearn import preprocessing\n",
    "from sklearn import model_selection\n",
    "from sklearn import tree,svm\n",
    "from sklearn.neural_network import MLPClassifier\n",
    "from sklearn.ensemble import RandomForestClassifier, BaggingClassifier, AdaBoostClassifier\n",
    "from sklearn import metrics\n",
    "import seaborn as sn\n",
    "import matplotlib.pyplot as plt\n",
    "np.random.seed(31415)"
   ]
  },
  {
   "cell_type": "code",
   "execution_count": null,
   "metadata": {},
   "outputs": [],
   "source": [
    "lumABasal_Union = \"ANP32B,ATG16L1,BIRC5,BST2,C1R,CCND3,CD46,CLU,FLT3LG,GAS6,GIMAP7,HAPLN3,HIF1A,ICAM2,IFITM1,IGF2R,IKBKG,IL15RA,IL32,IL3RA,ITCH,LAMP2,LY6E,MAP2K2,MAPK8,MAVS,NFATC4,PLEKHO1,PYCARD,RAPGEF6,SLC25A28,TYMS,VAMP5\".split(',')\n",
    "lumABasal_Int = \"BIRC5,BST2,CCND3,FLT3LG,GAS6,ICAM2,IFITM1,IGF2R,IL32,ITCH,LAMP2,LY6E,MAP2K2,PLEKHO1,PYCARD,TYMS,VAMP5\".split(',')\n",
    "\n",
    "lumALumB_Union = \"AXL,BCL2,BIRC5,CD40,CDK1,CEACAM1,CSF1,CX3CL1,DEFB1,GATA3,IL6R,ITGB4,MKI67,RRM2,SMAD3\".split(',')\n",
    "lumALumB_Int = \"AXL,BCL2,CD40,CSF1,CX3CL1,GATA3,ITGB4,MKI67,RRM2,SMAD3\".split(',')\n",
    "\n",
    "lumBBasal_Union = \"ALCAM,AXL,CD40,CD59,CFB,CX3CL1,FLT3LG,GAS6,GBP2,IL34,ITGB4,NFATC4,NT5E,SERPING1,SMAD3,SSPN,UBA7,VAMP5\".split(',')\n",
    "lumBBasal_Int = \"ALCAM,AXL,CD40,CX3CL1,CD59,FLT3LG,GAS6,GBP2,ITGB4,NFATC4,SMAD3,UBA7,VAMP5\".split(',')"
   ]
  },
  {
   "cell_type": "code",
   "execution_count": null,
   "metadata": {},
   "outputs": [],
   "source": [
    "#Specify file name and if we are using hand selected features or top percent genes\n",
    "filename = \"LumALumBAllDESorted.csv\"\n",
    "useHandSelected = False\n",
    "genelist=lumBBasal_Union\n",
    "pcnt = 100 \n",
    "\n",
    "#Read in data\n",
    "df = pd.read_csv(filename, header=0)\n",
    "df_genes=df.loc[:,~df.columns.isin(['Class', 'Sample'])]\n",
    "df_scaled = pd.DataFrame(preprocessing.scale(df_genes), columns=df_genes.columns)\n",
    "\n",
    "#process the labels\n",
    "sampleNames = df.Sample\n",
    "y = df.Class\n",
    "lb = preprocessing.LabelBinarizer()\n",
    "y=np.ravel(lb.fit_transform(y))\n",
    "\n",
    "#Determine if we are using top ranked genes or hand selected ones\n",
    "if not useHandSelected:\n",
    "    X = df_scaled\n",
    "    #Take the top ranked based on percent\n",
    "    pcntGenesUsed = np.int(np.round((pcnt * X.shape[1])/100))\n",
    "    print(\"Genes used: {}\".format(pcntGenesUsed))\n",
    "    X_selected = X.iloc[:, :pcntGenesUsed]\n",
    "else:\n",
    "    X = df_scaled\n",
    "    #Take the hand selected genes\n",
    "    X_selected = X.loc[:, genelist]\n",
    "\n",
    "print(\"Data set size: {0}\".format(X_selected.shape))\n",
    "print(\"Label size: {0}\\n\".format(y.shape))\n",
    "\n",
    "\n",
    "#model and scoring\n",
    "model = svm.SVC(kernel='linear')\n",
    "scoring = ['accuracy', 'precision', 'recall', 'f1']\n",
    "ypred = model_selection.cross_validate(model,X,y,cv=10,scoring=scoring, return_train_score=False)\n",
    "\n",
    "#get metrics\n",
    "acc = statistics.mean(ypred['test_accuracy']*100)\n",
    "acc_std = statistics.stdev(ypred['test_accuracy']*100)\n",
    "prec = statistics.mean(ypred['test_precision']*100)\n",
    "prec_std = statistics.stdev(ypred['test_precision']*100)\n",
    "rec = statistics.mean(ypred['test_recall']*100)\n",
    "rec_std = statistics.stdev(ypred['test_recall']*100)\n",
    "f1 = statistics.mean(ypred['test_f1']*100)\n",
    "f1_std = statistics.stdev(ypred['test_f1']*100)\n",
    "\n",
    "#print results\n",
    "print(\"Mean acc: {0:.2f} +/- {1:.2f}\".format(acc,acc_std))\n",
    "print(\"Mean precision: {0:.2f} +/- {1:.2f}\".format(prec,prec_std))\n",
    "print(\"Mean recall: {0:.2f} +/- {1:.2f}\".format(rec,rec_std))\n",
    "print(\"Mean fscore: {0:.2f} +/- {1:.2f}\".format(f1,f1_std))"
   ]
  }
 ],
 "metadata": {
  "kernelspec": {
   "display_name": "Python 3",
   "language": "python",
   "name": "python3"
  },
  "language_info": {
   "codemirror_mode": {
    "name": "ipython",
    "version": 3
   },
   "file_extension": ".py",
   "mimetype": "text/x-python",
   "name": "python",
   "nbconvert_exporter": "python",
   "pygments_lexer": "ipython3",
   "version": "3.7.7"
  }
 },
 "nbformat": 4,
 "nbformat_minor": 4
}
